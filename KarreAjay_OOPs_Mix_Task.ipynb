{
  "nbformat": 4,
  "nbformat_minor": 0,
  "metadata": {
    "colab": {
      "provenance": []
    },
    "kernelspec": {
      "name": "python3",
      "display_name": "Python 3"
    },
    "language_info": {
      "name": "python"
    }
  },
  "cells": [
    {
      "cell_type": "code",
      "execution_count": null,
      "metadata": {
        "id": "oGMyrtwAHFuq"
      },
      "outputs": [],
      "source": [
        "#Define a class Library with a list of books. Write methods to add_book, remove_book, and find_book by title."
      ]
    },
    {
      "cell_type": "code",
      "source": [
        "class Library:\n",
        "    def __init__(self):\n",
        "        self.books = []\n",
        "\n",
        "    def add_book(self, title):\n",
        "        self.books.append(title)\n",
        "        print(f'Title \"{title}\" successfully added to the book list.')\n",
        "\n",
        "    def remove_book(self, title):\n",
        "\n",
        "        if title in self.books:\n",
        "            self.books.remove(title)\n",
        "            print(f'Title \"{title}\" successfully removed from the book list.')\n",
        "        else:\n",
        "            print(f'Title \"{title}\" not found in the book list.')\n",
        "\n",
        "    def find_book(self, title):\n",
        "\n",
        "        if title in self.books:\n",
        "            print(f'Title \"{title}\" is present in the book list.')\n",
        "        else:\n",
        "            print(f'Title \"{title}\" not found in the book list.')\n",
        "res = Library()\n",
        "res.add_book(\"1984\")\n",
        "res.find_book(\"1984\")\n",
        "res.remove_book(\"1984\")\n",
        "res.find_book(\"1984\")"
      ],
      "metadata": {
        "colab": {
          "base_uri": "https://localhost:8080/"
        },
        "id": "Xh2VE9mTMtnM",
        "outputId": "4e92e641-b4fb-47bc-d78f-24a6c2a808b7"
      },
      "execution_count": null,
      "outputs": [
        {
          "output_type": "stream",
          "name": "stdout",
          "text": [
            "Title \"1984\" successfully added to the book list.\n",
            "Title \"1984\" is present in the book list.\n",
            "Title \"1984\" successfully removed from the book list.\n",
            "Title \"1984\" not found in the book list.\n"
          ]
        }
      ]
    },
    {
      "cell_type": "code",
      "source": [
        "# Implement a class Teacher with attributes name and subject. Create a method teach that prints the subject being taught. Create a subclass SubstituteTeacher that overrides the teach method."
      ],
      "metadata": {
        "id": "C9fwTkDrHG7o"
      },
      "execution_count": null,
      "outputs": []
    },
    {
      "cell_type": "code",
      "source": [
        "class teacher:\n",
        "    def __init__(self,name,subject):\n",
        "        self.name=name\n",
        "        self.subject=subject\n",
        "    def teach(self):\n",
        "        print(f\"Teacher name is {self.name} subject is {self.subject}\")\n",
        "class substitueTeacher(teacher):\n",
        "    def __init__(self,name,subject):\n",
        "        super().__init__(name,subject)\n",
        "    def teach(self):\n",
        "        print(f\"Teacher name is {self.name} subject is {self.subject}\")\n",
        "\n",
        "res=substitueTeacher(\"Ajay\",\"python\")\n",
        "res.teach()"
      ],
      "metadata": {
        "colab": {
          "base_uri": "https://localhost:8080/"
        },
        "id": "SHLZ7IoNREVk",
        "outputId": "839c4110-a070-4c0b-e4a6-4697df033421"
      },
      "execution_count": null,
      "outputs": [
        {
          "output_type": "stream",
          "name": "stdout",
          "text": [
            "Teacher name is Ajay subject is python\n"
          ]
        }
      ]
    },
    {
      "cell_type": "code",
      "source": [
        "#Define a class Device with attributes brand and model. Create a subclass Smartphone that adds attributes os and memory. Write a method phone_info that prints all details of the smartphone."
      ],
      "metadata": {
        "id": "rQ10T4spHQJa"
      },
      "execution_count": null,
      "outputs": []
    },
    {
      "cell_type": "code",
      "source": [
        "class Device:\n",
        "    def __init__(self,brand,model):\n",
        "        self.brand=brand\n",
        "        self.model=model\n",
        "class smartphones(Device):\n",
        "    def __init__(self,brand,model,os,memory):\n",
        "        super().__init__(brand,model)\n",
        "        self.memory=memory\n",
        "        self.os=os\n",
        "    def info(self):\n",
        "        print(f'brand name is {self.brand}')\n",
        "        print(f'model name is {self.model}')\n",
        "        print(f'Os is {self.os}')\n",
        "        print(f'memory is {self.memory}')\n",
        "res=smartphones(\"Apple\", \"iPhone 14\", \"iOS\", \"128GB\")\n",
        "res.info()"
      ],
      "metadata": {
        "colab": {
          "base_uri": "https://localhost:8080/"
        },
        "id": "BQBf9vzOcal2",
        "outputId": "a1c5b262-4565-49a6-c888-3ff9b9a0040b"
      },
      "execution_count": null,
      "outputs": [
        {
          "output_type": "stream",
          "name": "stdout",
          "text": [
            "brand name is Apple\n",
            "model name is iPhone 14\n",
            "Os is iOS\n",
            "memory is 128GB\n"
          ]
        }
      ]
    },
    {
      "cell_type": "code",
      "source": [
        "# Create a class Restaurant with attributes name and cuisine_type. Write methods to describe_restaurant and open_restaurant. Create a subclass IceCreamStand that adds an attribute flavors and a method display_flavors"
      ],
      "metadata": {
        "id": "nhllTy7IHQF-"
      },
      "execution_count": null,
      "outputs": []
    },
    {
      "cell_type": "code",
      "source": [
        "class restaurant:\n",
        "    def __init__(self,name,cuisine_type):\n",
        "        self.name=name\n",
        "        self.cuisine_type=cuisine_type\n",
        "    def describe_restaurant(self):\n",
        "        print(f'the name of resturant is {self.name} and cuisine_type is {self.cuisine_type}')\n",
        "    def open_restaurant(self):\n",
        "        print(f'resturant is open from 9:30 A.M to 11:00 P.M')\n",
        "class IceCreamStand(restaurant):\n",
        "    def __init__(self,name,cuisine_type,flavours):\n",
        "        super().__init__(name,cuisine_type)\n",
        "        self.flavours=flavours\n",
        "    def display_flavours(self):\n",
        "        print(f'The icecream flavours available are: {\", \".join(self.flavours)}')\n",
        "\n",
        "\n",
        "res1 = IceCreamStand('Bk', 'Ice Cream', ['Vanilla', 'Chocolate', 'Strawberry'])\n",
        "res1.describe_restaurant()\n",
        "res1.open_restaurant()\n",
        "res1.display_flavours()"
      ],
      "metadata": {
        "colab": {
          "base_uri": "https://localhost:8080/"
        },
        "id": "yp8F0eJF06Wa",
        "outputId": "25672676-621f-4a41-e2a0-1b9f6c5a8986"
      },
      "execution_count": null,
      "outputs": [
        {
          "output_type": "stream",
          "name": "stdout",
          "text": [
            "the name of resturant is Bk and cuisine_type is Ice Cream\n",
            "resturant is open from 9:30 A.M to 11:00 P.M\n",
            "The icecream flavours available are: Vanilla, Chocolate, Strawberry\n"
          ]
        }
      ]
    },
    {
      "cell_type": "code",
      "source": [
        "# Define a class Inventory with attributes items (a dictionary where keys are item names and values are quantities). Write methods to add_item, remove_item, and check_stock."
      ],
      "metadata": {
        "id": "FxJsU4H9HQA2"
      },
      "execution_count": null,
      "outputs": []
    },
    {
      "cell_type": "code",
      "source": [
        "class Inventory:\n",
        "    def __init__(self, keys, values):\n",
        "\n",
        "        self.dictionary = {keys: values}\n",
        "\n",
        "    def add_item(self, item_name, quantity):\n",
        "        self.dictionary[item_name] = quantity\n",
        "        print(f'Item name is {item_name} and quantity is {self.dictionary[item_name]}')\n",
        "\n",
        "    def remove_item(self, item_name):\n",
        "        if item_name in self.dictionary:\n",
        "            del self.dictionary[item_name]\n",
        "            print(f'Item name is {item_name}')\n",
        "        else:\n",
        "            print(f'Item \"{item_name}\" not found in inventory.')\n",
        "\n",
        "    def check_item(self, item_name):\n",
        "        if item_name in self.dictionary:\n",
        "            print(f'Item \"{item_name}\" is available with quantity: {self.dictionary[item_name]}')\n",
        "        else:\n",
        "            print(f'Item \"{item_name}\" is not available.')\n",
        "\n",
        "res = Inventory('a', 1)\n",
        "res.add_item('a', 1)\n",
        "res.add_item('b', 5)\n",
        "res.remove_item('b')\n",
        "res.remove_item('c')\n",
        "res.check_item('b')\n",
        "res.check_item('c')\n"
      ],
      "metadata": {
        "colab": {
          "base_uri": "https://localhost:8080/"
        },
        "id": "sOlETCScBpHf",
        "outputId": "8b54b295-2d30-4b46-9a1b-d9e3f7e4fe07"
      },
      "execution_count": null,
      "outputs": [
        {
          "output_type": "stream",
          "name": "stdout",
          "text": [
            "Item name is a and quantity is 1\n",
            "Item name is b and quantity is 5\n",
            "Item name is b\n",
            "Item \"c\" not found in inventory.\n",
            "Item \"b\" is not available.\n",
            "Item \"c\" is not available.\n"
          ]
        }
      ]
    },
    {
      "cell_type": "code",
      "source": [
        "# Create a class Publisher with attributes name and address. Write a method publish that prints \"Publishing...\". Create a subclass MagazinePublisher that adds an attribute magazines (a list of magazine titles) and overrides the publish method to print the magazine titles."
      ],
      "metadata": {
        "id": "IwxPOTenHP9e"
      },
      "execution_count": null,
      "outputs": []
    },
    {
      "cell_type": "code",
      "source": [
        "class publisher:\n",
        "    def __init__(self,name,address):\n",
        "        self.name=name\n",
        "        self.address=address\n",
        "    def print(self):\n",
        "        print(\"****publishing*****\")\n",
        "class magazinepublisher(publisher):\n",
        "    def __init__(self,name,address,magazine):\n",
        "        super().__init__(name,address)\n",
        "        self.magazine=magazine\n",
        "    def publish(self):\n",
        "        print('.........magazine titles......')\n",
        "        for k in self.magazine:\n",
        "            print(k)\n",
        "res= publisher(\"General Publisher\", \"123 Publisher St\")\n",
        "res.print()\n",
        "\n",
        "res2 = magazinepublisher(\"Special Magazine Publisher\", \"456 Magazine Ave\", [\"Tech Today\", \"Health Weekly\", \"Travel Monthly\"])\n",
        "res2.publish()\n",
        "res2.print()"
      ],
      "metadata": {
        "colab": {
          "base_uri": "https://localhost:8080/"
        },
        "id": "gkJDTxxzve20",
        "outputId": "d9fcfa1c-b947-46ac-e799-5ce2d752ec1c"
      },
      "execution_count": null,
      "outputs": [
        {
          "output_type": "stream",
          "name": "stdout",
          "text": [
            "****publishing*****\n",
            ".........magazine titles......\n",
            "Tech Today\n",
            "Health Weekly\n",
            "Travel Monthly\n",
            "****publishing*****\n"
          ]
        }
      ]
    },
    {
      "cell_type": "code",
      "source": [
        "# Implement a class Movie with attributes title, director, and duration. Write methods to play and pause the movie. Create a subclass Documentary that adds an attribute topic and a method display_info that prints all details including the topic"
      ],
      "metadata": {
        "id": "UACUWEnUHP5_"
      },
      "execution_count": null,
      "outputs": []
    },
    {
      "cell_type": "code",
      "source": [
        "class movie:\n",
        "    def __init__(self,title,director,duration):\n",
        "        self.title=title\n",
        "        self.director=director\n",
        "        self.duration=duration\n",
        "    def play(self):\n",
        "        print(\"...movie is playing...\")\n",
        "    def pause(self):\n",
        "        print(\"...movie is pause...\")\n",
        "class Documentary(movie):\n",
        "    def __init__(self,title,director,duration,topic):\n",
        "        super().__init__(title,director,duration)\n",
        "        self.topic=topic\n",
        "    def display_info(self):\n",
        "        print(f'title of movie is {self.title}')\n",
        "        print(f'director name is {self.director}')\n",
        "        print(f'duration of movie is {self.duration}')\n",
        "        print(f'topic of movie is {self.topic}')\n",
        "res=Documentary(\"kalki\",\"Nag ashwin\",\"3 hrs\",\"sci-fi\")\n",
        "res.display_info()\n",
        "res.play()\n",
        "res.pause()"
      ],
      "metadata": {
        "colab": {
          "base_uri": "https://localhost:8080/"
        },
        "id": "22dT3JnAwLVE",
        "outputId": "121a39fe-25b3-40ce-bc1b-488d26fd00b9"
      },
      "execution_count": null,
      "outputs": [
        {
          "output_type": "stream",
          "name": "stdout",
          "text": [
            "title of movie is kalki\n",
            "director name is Nag ashwin\n",
            "duration of movie is 3 hrs\n",
            "topic of movie is sci-fi\n",
            "...movie is playing...\n",
            "...movie is pause...\n"
          ]
        }
      ]
    },
    {
      "cell_type": "code",
      "source": [
        "# Define a class Hotel with attributes name and rooms (a dictionary where keys are room numbers and values are boolean indicating occupancy). Write methods to check_in, check_out, and available_rooms."
      ],
      "metadata": {
        "id": "7cTy55VjHPcu"
      },
      "execution_count": null,
      "outputs": []
    },
    {
      "cell_type": "code",
      "source": [
        "class Hotel:\n",
        "    def __init__(self, name, rooms):\n",
        "\n",
        "        self.name = name\n",
        "        if rooms is not None :\n",
        "            self.rooms = rooms\n",
        "        else:\n",
        "            rooms={}\n",
        "    def check_in(self, room_number):\n",
        "\n",
        "        if room_number in self.rooms:\n",
        "            if not self.rooms[room_number]:\n",
        "                self.rooms[room_number] = True\n",
        "                print(f\"Checked in to room {room_number}.\")\n",
        "            else:\n",
        "                print(f\"Room {room_number} is already occupied.\")\n",
        "        else:\n",
        "            print(f\"Room {room_number} does not exist in the hotel.\")\n",
        "\n",
        "    def check_out(self, room_number):\n",
        "\n",
        "        if room_number in self.rooms:\n",
        "            if self.rooms[room_number]:\n",
        "                self.rooms[room_number] = False\n",
        "                print(f\"Checked out of room {room_number}.\")\n",
        "            else:\n",
        "                print(f\"Room {room_number} is not occupied.\")\n",
        "        else:\n",
        "            print(f\"Room {room_number} does not exist in the hotel.\")\n",
        "\n",
        "    def available_rooms(self):\n",
        "\n",
        "        available = []\n",
        "        for room, occupied in self.rooms.items():\n",
        "            if not occupied:\n",
        "                available.append(room)\n",
        "        return available\n",
        "\n",
        "    def add_room(self, room_number):\n",
        "\n",
        "        if room_number not in self.rooms:\n",
        "            self.rooms[room_number] = False\n",
        "            print(f\"Room {room_number} added.\")\n",
        "        else:\n",
        "            print(f\"Room {room_number} already exists.\")\n",
        "\n",
        "\n",
        "rooms = {101: False, 102: True, 103: False}\n",
        "hotel = Hotel(\"Grand Plaza\", rooms)\n",
        "print(\"Available rooms:\", hotel.available_rooms())\n",
        "hotel.check_in(101)\n",
        "print(\"Available rooms after check-in:\", hotel.available_rooms())\n",
        "hotel.check_out(101)\n",
        "print(\"Available rooms after check-out:\", hotel.available_rooms())\n",
        "hotel.add_room(104)\n",
        "print(\"Available rooms after adding room 104:\", hotel.available_rooms())\n"
      ],
      "metadata": {
        "colab": {
          "base_uri": "https://localhost:8080/"
        },
        "id": "vO3a1ulsDs9R",
        "outputId": "c831f38d-7753-4940-bfca-ec41e70ed7c9"
      },
      "execution_count": 1,
      "outputs": [
        {
          "output_type": "stream",
          "name": "stdout",
          "text": [
            "Available rooms: [101, 103]\n",
            "Checked in to room 101.\n",
            "Available rooms after check-in: [103]\n",
            "Checked out of room 101.\n",
            "Available rooms after check-out: [101, 103]\n",
            "Room 104 added.\n",
            "Available rooms after adding room 104: [101, 103, 104]\n"
          ]
        }
      ]
    },
    {
      "cell_type": "code",
      "source": [
        "# Create a class Account with attributes account_number and balance. Write methods to deposit and withdraw. Create a subclass BusinessAccount that adds an attribute overdraft_limit and overrides the withdraw method to consider the overdraft limit."
      ],
      "metadata": {
        "id": "S0o3S07lHi4Z"
      },
      "execution_count": null,
      "outputs": []
    },
    {
      "cell_type": "code",
      "source": [
        "class Account:\n",
        "    def __init__(self, account_number, balance):\n",
        "        self.account_number = account_number\n",
        "        self.balance = balance\n",
        "\n",
        "    def deposit(self, amount):\n",
        "        if amount > 0:\n",
        "            self.balance =self.balance+amount\n",
        "            print(f\"Deposited ${amount}. New balance: ${self.balance}.\")\n",
        "        else:\n",
        "            print(\"Deposit amount must be positive.\")\n",
        "\n",
        "    def withdraw(self, amount):\n",
        "        if amount > 0:\n",
        "            if amount <= self.balance:\n",
        "                self.balance =self.balance-amount\n",
        "                print(f\"Withdrew ${amount}. New balance: ${self.balance}.\")\n",
        "            else:\n",
        "                print(\"Insufficient funds.\")\n",
        "        else:\n",
        "            print(\"Withdrawal amount must be positive.\")\n",
        "\n",
        "class BusinessAccount(Account):\n",
        "    def __init__(self, account_number, balance, overdraft_limit):\n",
        "        super().__init__(account_number, balance)\n",
        "        self.overdraft_limit = overdraft_limit\n",
        "\n",
        "    def withdraw(self, amount):\n",
        "        if amount > 0:\n",
        "            if amount <= (self.balance + self.overdraft_limit):\n",
        "                self.balance =self.balance-amount\n",
        "                print(f\"Withdrew ${amount}. New balance: ${self.balance}.\")\n",
        "            else:\n",
        "                print(\"Insufficient funds and overdraft limit.\")\n",
        "        else:\n",
        "            print(\"Withdrawal amount must be positive.\")\n",
        "\n",
        "\n",
        "res = Account(\"123456\", 1000)\n",
        "res.deposit(200)\n",
        "res.withdraw(500)\n",
        "res.withdraw(800)\n",
        "\n",
        "res1= BusinessAccount(\"654321\", 1000, 500)\n",
        "res1.deposit(300)\n",
        "res1.withdraw(1200)\n",
        "res1.withdraw(100)\n"
      ],
      "metadata": {
        "colab": {
          "base_uri": "https://localhost:8080/"
        },
        "id": "Jj-NAhYIHnSg",
        "outputId": "18d03156-3c73-494e-e77a-8473d46fed9f"
      },
      "execution_count": 3,
      "outputs": [
        {
          "output_type": "stream",
          "name": "stdout",
          "text": [
            "Deposited $200. New balance: $1200.\n",
            "Withdrew $500. New balance: $700.\n",
            "Insufficient funds.\n",
            "Deposited $300. New balance: $1300.\n",
            "Withdrew $1200. New balance: $100.\n",
            "Withdrew $100. New balance: $0.\n"
          ]
        }
      ]
    },
    {
      "cell_type": "code",
      "source": [
        "# Implement a class Building with attributes address and floors. Write a method describe_building that prints the building details. Create a subclass OfficeBuilding that adds an attribute offices (a dictionary where keys are office numbers and values are company names)."
      ],
      "metadata": {
        "id": "LHQgYuuaHlhV"
      },
      "execution_count": null,
      "outputs": []
    },
    {
      "cell_type": "code",
      "source": [
        "class Building:\n",
        "    def __init__(self, address, floors):\n",
        "        self.address = address\n",
        "        self.floors = floors\n",
        "\n",
        "    def describe_building(self):\n",
        "        print(f\"Address: {self.address}\")\n",
        "        print(f\"Floors: {self.floors}\")\n",
        "\n",
        "class OfficeBuilding(Building):\n",
        "    def __init__(self, address, floors, offices=None):\n",
        "        super().__init__(address, floors)\n",
        "        if offices is not None:\n",
        "            self.offices = offices\n",
        "        else:\n",
        "            offices={}\n",
        "\n",
        "    def describe_building(self):\n",
        "        super().describe_building()\n",
        "        print(\"Offices:\")\n",
        "        for office_number, company_name in self.offices.items():\n",
        "            print(f\"  Office {office_number}: {company_name}\")\n",
        "\n",
        "res = Building(\"123 Main St\", 10)\n",
        "res.describe_building()\n",
        "\n",
        "offices = {101: \"TechCorp\", 102: \"FinServices\"}\n",
        "res1 = OfficeBuilding(\"456 Elm St\", 15, offices)\n",
        "res1.describe_building()"
      ],
      "metadata": {
        "colab": {
          "base_uri": "https://localhost:8080/"
        },
        "id": "k3YKWY2uKE1o",
        "outputId": "c7ac8c0a-91c5-489d-f3f3-df308004982e"
      },
      "execution_count": 4,
      "outputs": [
        {
          "output_type": "stream",
          "name": "stdout",
          "text": [
            "Address: 123 Main St\n",
            "Floors: 10\n",
            "Address: 456 Elm St\n",
            "Floors: 15\n",
            "Offices:\n",
            "  Office 101: TechCorp\n",
            "  Office 102: FinServices\n"
          ]
        }
      ]
    }
  ]
}