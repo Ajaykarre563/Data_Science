{
  "cells": [
    {
      "cell_type": "markdown",
      "id": "51d88945-59e3-4e9a-b091-338ae5ee7fe8",
      "metadata": {
        "id": "51d88945-59e3-4e9a-b091-338ae5ee7fe8"
      },
      "source": [
        "![INTTRVU_logo_Jupyter_notebook.jpg](attachment:648ea659-7592-45c1-bd76-18800c6768cd.jpg)"
      ]
    },
    {
      "cell_type": "code",
      "execution_count": null,
      "id": "7b7409d0-350e-4c68-b27e-e63bfab2e5e9",
      "metadata": {
        "id": "7b7409d0-350e-4c68-b27e-e63bfab2e5e9"
      },
      "outputs": [],
      "source": [
        " ### Please name your assignment file using the following format: Your Name_Assignment_Assignment Number. EX: INTTRVU_Assignment_1"
      ]
    },
    {
      "cell_type": "markdown",
      "id": "05325c35-c836-4aef-ae87-5be63d643c45",
      "metadata": {
        "id": "05325c35-c836-4aef-ae87-5be63d643c45"
      },
      "source": [
        "# kindly perform coding in the blank cells provided below the questions. Once completed, please share this python file for review on mentor@inttrvu.ai"
      ]
    },
    {
      "cell_type": "code",
      "execution_count": null,
      "id": "ebc0fc20-a9a5-484a-a7c2-a4b77abb2a83",
      "metadata": {
        "id": "ebc0fc20-a9a5-484a-a7c2-a4b77abb2a83"
      },
      "outputs": [],
      "source": []
    },
    {
      "cell_type": "markdown",
      "id": "f26fa9d5-85f4-4c40-9719-374966bce875",
      "metadata": {
        "id": "f26fa9d5-85f4-4c40-9719-374966bce875"
      },
      "source": [
        "### 1. Create a list with numbers 1 to 10 in it ([1,2,3….10]) Write a for loop on this list to sum up all numbers in the list except 5 and 7. Print the result"
      ]
    },
    {
      "cell_type": "code",
      "execution_count": 1,
      "id": "d43d72ce-5761-4b9c-a168-7a0583b3d30d",
      "metadata": {
        "colab": {
          "base_uri": "https://localhost:8080/"
        },
        "id": "d43d72ce-5761-4b9c-a168-7a0583b3d30d",
        "outputId": "ec6c2b04-d130-4bff-90e8-1a8aba6cd92a"
      },
      "outputs": [
        {
          "output_type": "stream",
          "name": "stdout",
          "text": [
            "43\n"
          ]
        }
      ],
      "source": [
        "l=[1,2,3,4,5,6,7,8,9,10]\n",
        "k=len(l)\n",
        "s=0\n",
        "for i in range(k):\n",
        "    if l[i]!=5 and l[i]!=7:\n",
        "        s=s+l[i]\n",
        "print(s)"
      ]
    },
    {
      "cell_type": "markdown",
      "id": "bcca8e91-d1c2-4928-98ce-a7521efc69f7",
      "metadata": {
        "id": "bcca8e91-d1c2-4928-98ce-a7521efc69f7"
      },
      "source": [
        "### 2. Write a while loop to create a list with numbers from 1 to 100. When inserting new number in the list, skip every number which is divisible by 3. Print the result. Tip: To check whether number is divisible by 3 you can use % operator"
      ]
    },
    {
      "cell_type": "code",
      "execution_count": 2,
      "id": "67e2067d-53bc-4a7b-8e1c-2ada03a81d45",
      "metadata": {
        "colab": {
          "base_uri": "https://localhost:8080/"
        },
        "id": "67e2067d-53bc-4a7b-8e1c-2ada03a81d45",
        "outputId": "84c598d2-9562-4828-b678-b067439d975c"
      },
      "outputs": [
        {
          "output_type": "stream",
          "name": "stdout",
          "text": [
            "1\n",
            "2\n",
            "4\n",
            "5\n",
            "7\n",
            "8\n",
            "10\n",
            "11\n",
            "13\n",
            "14\n",
            "16\n",
            "17\n",
            "19\n",
            "20\n",
            "22\n",
            "23\n",
            "25\n",
            "26\n",
            "28\n",
            "29\n",
            "31\n",
            "32\n",
            "34\n",
            "35\n",
            "37\n",
            "38\n",
            "40\n",
            "41\n",
            "43\n",
            "44\n",
            "46\n",
            "47\n",
            "49\n",
            "50\n",
            "52\n",
            "53\n",
            "55\n",
            "56\n",
            "58\n",
            "59\n",
            "61\n",
            "62\n",
            "64\n",
            "65\n",
            "67\n",
            "68\n",
            "70\n",
            "71\n",
            "73\n",
            "74\n",
            "76\n",
            "77\n",
            "79\n",
            "80\n",
            "82\n",
            "83\n",
            "85\n",
            "86\n",
            "88\n",
            "89\n",
            "91\n",
            "92\n",
            "94\n",
            "95\n",
            "97\n",
            "98\n",
            "100\n"
          ]
        }
      ],
      "source": [
        "k=1\n",
        "i=1\n",
        "while i<=100:\n",
        "    if k%3==0:\n",
        "        k=k+1\n",
        "    else:\n",
        "        print(k)\n",
        "        k=k+1\n",
        "    i=i+1\n",
        ""
      ]
    },
    {
      "cell_type": "markdown",
      "id": "cb9579ac-590c-488f-93a3-1dc06e1cce2d",
      "metadata": {
        "id": "cb9579ac-590c-488f-93a3-1dc06e1cce2d"
      },
      "source": [
        "### 3. Write a program that prints the first 10 natural numbers."
      ]
    },
    {
      "cell_type": "code",
      "execution_count": 3,
      "id": "f27390cb-ba97-4dfd-aea1-afb302590665",
      "metadata": {
        "colab": {
          "base_uri": "https://localhost:8080/"
        },
        "id": "f27390cb-ba97-4dfd-aea1-afb302590665",
        "outputId": "5af7cbcd-eb19-4b3f-8b51-4774d125b192"
      },
      "outputs": [
        {
          "output_type": "stream",
          "name": "stdout",
          "text": [
            "1 2 3 4 5 6 7 8 9 10 "
          ]
        }
      ],
      "source": [
        "for i in range(1,11):\n",
        "    print(i,end=\" \")"
      ]
    },
    {
      "cell_type": "markdown",
      "id": "afab0401-7155-472c-9c6d-bec0fce6a2cd",
      "metadata": {
        "id": "afab0401-7155-472c-9c6d-bec0fce6a2cd"
      },
      "source": [
        "### 4.Write a python code to print the summation of all the numbers from 1 to 100"
      ]
    },
    {
      "cell_type": "code",
      "execution_count": 4,
      "id": "9fd0d6b0-f107-4181-aa1e-de08dedd9110",
      "metadata": {
        "colab": {
          "base_uri": "https://localhost:8080/"
        },
        "id": "9fd0d6b0-f107-4181-aa1e-de08dedd9110",
        "outputId": "372eaa3a-ee8a-4809-95ee-b2f27dd51300"
      },
      "outputs": [
        {
          "output_type": "stream",
          "name": "stdout",
          "text": [
            "5050\n"
          ]
        }
      ],
      "source": [
        "s=0\n",
        "for i in range(1,101):\n",
        "    s=s+i\n",
        "print(s)"
      ]
    },
    {
      "cell_type": "markdown",
      "id": "8efa7c77-6306-4a39-9a3b-ab067d2cb863",
      "metadata": {
        "id": "8efa7c77-6306-4a39-9a3b-ab067d2cb863"
      },
      "source": [
        "### 5.Write a Python program to find the common elements between two lists.\n",
        "list1 = [11,2,190,43,23,65,19] list2 = [12,11,121,190,43,23,76,190]"
      ]
    },
    {
      "cell_type": "code",
      "execution_count": 5,
      "id": "fd2fe4f7-40a7-462e-9901-fdd11e028254",
      "metadata": {
        "colab": {
          "base_uri": "https://localhost:8080/"
        },
        "id": "fd2fe4f7-40a7-462e-9901-fdd11e028254",
        "outputId": "15cd544d-dbb9-47ad-84e8-ca0a9594f690"
      },
      "outputs": [
        {
          "output_type": "stream",
          "name": "stdout",
          "text": [
            "11 190 43 23 "
          ]
        }
      ],
      "source": [
        "l1 = [11,2,190,43,23,65,19]\n",
        "l2 = [12,11,121,190,43,23,76,190]\n",
        "for i in range(len(l1)):\n",
        "    for j in range(len(l2)):\n",
        "        if l1[i]==l2[j]:\n",
        "            print(l1[i],end=\" \")\n",
        "            break"
      ]
    },
    {
      "cell_type": "markdown",
      "id": "5dc7246f-8fe9-4a4b-b9da-6e40abfb8432",
      "metadata": {
        "id": "5dc7246f-8fe9-4a4b-b9da-6e40abfb8432"
      },
      "source": [
        "### 6.Write a python code to create separate lists of Even and Odd numbers from a list. [21,44,22,878,55,90,17,68,69,91]"
      ]
    },
    {
      "cell_type": "code",
      "execution_count": 6,
      "id": "2f389614-873e-486b-bce9-ef988d853562",
      "metadata": {
        "colab": {
          "base_uri": "https://localhost:8080/"
        },
        "id": "2f389614-873e-486b-bce9-ef988d853562",
        "outputId": "8eb8dc03-0a31-4fe1-bbe9-9105e5d4dd02"
      },
      "outputs": [
        {
          "output_type": "stream",
          "name": "stdout",
          "text": [
            "[44, 22, 878, 90, 68]\n",
            "[21, 55, 17, 69, 91]\n"
          ]
        }
      ],
      "source": [
        "l=[21,44,22,878,55,90,17,68,69,91]\n",
        "k=len(l)\n",
        "e=[]\n",
        "od=[]\n",
        "for i in range(k):\n",
        "    if l[i]%2==0:\n",
        "        e.append(l[i])\n",
        "    else:\n",
        "        od.append(l[i])\n",
        "print(e)\n",
        "print(od)"
      ]
    },
    {
      "cell_type": "markdown",
      "id": "c0c54264-0cea-4c58-b8d5-b85fa5f79058",
      "metadata": {
        "id": "c0c54264-0cea-4c58-b8d5-b85fa5f79058"
      },
      "source": [
        "### 7.Calculate the sum of all numbers in a list using a loop. [21,44,767,98,37]"
      ]
    },
    {
      "cell_type": "code",
      "execution_count": 7,
      "id": "9a1e3137-d220-4117-9ad8-2363c7e7ea44",
      "metadata": {
        "colab": {
          "base_uri": "https://localhost:8080/"
        },
        "id": "9a1e3137-d220-4117-9ad8-2363c7e7ea44",
        "outputId": "e06470cd-d85c-45a3-a3a9-fb76c541225d"
      },
      "outputs": [
        {
          "output_type": "stream",
          "name": "stdout",
          "text": [
            "967\n"
          ]
        }
      ],
      "source": [
        "l=[21,44,767,98,37]\n",
        "k=len(l)\n",
        "s=0\n",
        "for i in range(k):\n",
        "    s=s+l[i]\n",
        "print(s)"
      ]
    },
    {
      "cell_type": "markdown",
      "id": "286f7502-3e82-460e-bbbc-58b4930d2649",
      "metadata": {
        "id": "286f7502-3e82-460e-bbbc-58b4930d2649"
      },
      "source": [
        "### 8. Write a python code to check if a number is positive, negative, or zero."
      ]
    },
    {
      "cell_type": "code",
      "execution_count": 8,
      "id": "8830d505-a613-425f-ba7d-0f369afed9ab",
      "metadata": {
        "colab": {
          "base_uri": "https://localhost:8080/"
        },
        "id": "8830d505-a613-425f-ba7d-0f369afed9ab",
        "outputId": "56b497c2-5256-4795-951e-424249bf05d0"
      },
      "outputs": [
        {
          "output_type": "stream",
          "name": "stdout",
          "text": [
            "Zero\n"
          ]
        }
      ],
      "source": [
        "n=0\n",
        "if n>0:\n",
        "    print(\"pos\")\n",
        "elif n<0:\n",
        "    print(\"neg\")\n",
        "else:\n",
        "    print(\"Zero\")"
      ]
    },
    {
      "cell_type": "markdown",
      "id": "a622d696-c1ae-4bbd-8e07-85723780086d",
      "metadata": {
        "id": "a622d696-c1ae-4bbd-8e07-85723780086d"
      },
      "source": [
        "### 9. Find the length of the longest word in a string: ‘Data Science and Machine Learning’"
      ]
    },
    {
      "cell_type": "code",
      "execution_count": 9,
      "id": "1f1db3cb-79c4-4a0a-b0f3-db162b8350ae",
      "metadata": {
        "colab": {
          "base_uri": "https://localhost:8080/"
        },
        "id": "1f1db3cb-79c4-4a0a-b0f3-db162b8350ae",
        "outputId": "47dd2ab8-688a-4138-c570-27ac08f5a54e"
      },
      "outputs": [
        {
          "output_type": "stream",
          "name": "stdout",
          "text": [
            "8\n"
          ]
        }
      ],
      "source": [
        "s='Data Science and Machine Learning'\n",
        "k=s.split()\n",
        "c=0\n",
        "for i in k:\n",
        "    if len(i)>c:\n",
        "        c=len(i)\n",
        "print(c)"
      ]
    },
    {
      "cell_type": "markdown",
      "id": "1be50dd0-f73a-4865-841d-f5de054dccf1",
      "metadata": {
        "id": "1be50dd0-f73a-4865-841d-f5de054dccf1"
      },
      "source": [
        "### 10.Write a program to calculate the sum of squares of all numbers from 1 to 10 using a while loop."
      ]
    },
    {
      "cell_type": "code",
      "execution_count": 10,
      "id": "0dc12de3-b9a4-4be2-9283-3b95ed5d9912",
      "metadata": {
        "colab": {
          "base_uri": "https://localhost:8080/"
        },
        "id": "0dc12de3-b9a4-4be2-9283-3b95ed5d9912",
        "outputId": "3efb9644-1d8d-48ea-f813-2602bd15f7bd"
      },
      "outputs": [
        {
          "output_type": "stream",
          "name": "stdout",
          "text": [
            "385\n"
          ]
        }
      ],
      "source": [
        "i=1\n",
        "s=0\n",
        "while i<11:\n",
        "    s=s+i**2\n",
        "    i=i+1\n",
        "print(s)"
      ]
    }
  ],
  "metadata": {
    "kernelspec": {
      "display_name": "Python 3 (ipykernel)",
      "language": "python",
      "name": "python3"
    },
    "language_info": {
      "codemirror_mode": {
        "name": "ipython",
        "version": 3
      },
      "file_extension": ".py",
      "mimetype": "text/x-python",
      "name": "python",
      "nbconvert_exporter": "python",
      "pygments_lexer": "ipython3",
      "version": "3.11.7"
    },
    "colab": {
      "provenance": []
    }
  },
  "nbformat": 4,
  "nbformat_minor": 5
}