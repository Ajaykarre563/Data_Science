{
  "nbformat": 4,
  "nbformat_minor": 0,
  "metadata": {
    "colab": {
      "provenance": []
    },
    "kernelspec": {
      "name": "python3",
      "display_name": "Python 3"
    },
    "language_info": {
      "name": "python"
    }
  },
  "cells": [
    {
      "cell_type": "code",
      "source": [
        "#Write a function char_frequency(s) that takes a string s and returns a dictionary with the frequency of each character in the string."
      ],
      "metadata": {
        "id": "KX9StH01B4m0"
      },
      "execution_count": null,
      "outputs": []
    },
    {
      "cell_type": "code",
      "source": [
        "def freq_char(s):\n",
        "    d={}\n",
        "    for i in s:\n",
        "        if i in d:\n",
        "            d[i]=d[i]+1\n",
        "        else:\n",
        "            d[i]=1\n",
        "    return d\n",
        "s=\"helloworld\"\n",
        "res=freq_char(s)\n",
        "print(res)"
      ],
      "metadata": {
        "colab": {
          "base_uri": "https://localhost:8080/"
        },
        "id": "ZGQVcZ8Joxk_",
        "outputId": "394441a2-07b9-4b2b-ccd7-787053f67ea1"
      },
      "execution_count": null,
      "outputs": [
        {
          "output_type": "stream",
          "name": "stdout",
          "text": [
            "{'h': 1, 'e': 1, 'l': 3, 'o': 2, 'w': 1, 'r': 1, 'd': 1}\n"
          ]
        }
      ]
    },
    {
      "cell_type": "code",
      "source": [
        "#Write a function list_intersection(lst1, lst2) that takes two lists lst1 and lst2 and returns a new list containing the elements that are common to both lists."
      ],
      "metadata": {
        "id": "IV3YuR91B4_G"
      },
      "execution_count": null,
      "outputs": []
    },
    {
      "cell_type": "code",
      "source": [
        "def list_inter(l1,l2):\n",
        "    a=list(set(l1)&set(l2))\n",
        "    return a\n",
        "l1=[4,5,6,7,2,3]\n",
        "l2=[1,2,3,4,6,7]\n",
        "k=list_inter(l1,l2)\n",
        "print(k)"
      ],
      "metadata": {
        "colab": {
          "base_uri": "https://localhost:8080/"
        },
        "id": "M6vr0CXZp07b",
        "outputId": "9e23d580-adff-48d6-c015-10319f4245e7"
      },
      "execution_count": null,
      "outputs": [
        {
          "output_type": "stream",
          "name": "stdout",
          "text": [
            "[2, 3, 4, 6, 7]\n"
          ]
        }
      ]
    },
    {
      "cell_type": "code",
      "source": [
        "#Implement a function count_vowels(s) that takes a string s and returns the number of vowels in the string."
      ],
      "metadata": {
        "id": "rfpai-AOB5CD"
      },
      "execution_count": null,
      "outputs": []
    },
    {
      "cell_type": "code",
      "source": [
        "def vowc(s):\n",
        "    c=0\n",
        "    for i in s:\n",
        "        if i=='a' or i=='e' or i=='i' or i=='o' or i=='u' or i=='A' or i=='E' or i=='I' or i=='O' or i=='u':\n",
        "            c=c+1\n",
        "        else:\n",
        "            pass\n",
        "    return c\n",
        "s=\"ajaykarre\"\n",
        "res=vowc(s)\n",
        "print(res)"
      ],
      "metadata": {
        "colab": {
          "base_uri": "https://localhost:8080/"
        },
        "id": "3ZRZTVA9sNak",
        "outputId": "044d77be-ef9b-4c83-cbff-608f67d1bae5"
      },
      "execution_count": null,
      "outputs": [
        {
          "output_type": "stream",
          "name": "stdout",
          "text": [
            "4\n"
          ]
        }
      ]
    },
    {
      "cell_type": "code",
      "source": [
        "#Write a function celsius_to_fahrenheit(celsius) that converts a temperature from Celsius to Fahrenheit."
      ],
      "metadata": {
        "id": "HmCbmNP-B5FK"
      },
      "execution_count": null,
      "outputs": []
    },
    {
      "cell_type": "code",
      "source": [
        "def cel_to_fre(c):\n",
        "    f=(1.8)*c+32\n",
        "    return f\n",
        "c=int(input())\n",
        "res=cel_to_fre(c)\n",
        "print(int(res))"
      ],
      "metadata": {
        "colab": {
          "base_uri": "https://localhost:8080/"
        },
        "id": "ZzEGmTbvurZR",
        "outputId": "0d69ad01-bfa6-49de-91b2-0f7262e47614"
      },
      "execution_count": null,
      "outputs": [
        {
          "output_type": "stream",
          "name": "stdout",
          "text": [
            "45\n",
            "113\n"
          ]
        }
      ]
    },
    {
      "cell_type": "code",
      "source": [
        "#Write a function find_max(lst) that takes a list of numbers lst and returns the maximum value in the list."
      ],
      "metadata": {
        "id": "WFW9stDfB5H8"
      },
      "execution_count": null,
      "outputs": []
    },
    {
      "cell_type": "code",
      "source": [
        "def find_max(l):\n",
        "    m=0\n",
        "    for i in l:\n",
        "        if m<i:\n",
        "            m=i\n",
        "    return m\n",
        "l=list(map(int,input().split()))\n",
        "res=find_max(l)\n",
        "print(res)"
      ],
      "metadata": {
        "colab": {
          "base_uri": "https://localhost:8080/"
        },
        "id": "Stuo_YF5vhSN",
        "outputId": "218bd050-40d7-4548-d179-2918ef75210a"
      },
      "execution_count": null,
      "outputs": [
        {
          "output_type": "stream",
          "name": "stdout",
          "text": [
            "1 4 12 4 6 7 8 9 11\n",
            "12\n"
          ]
        }
      ]
    },
    {
      "cell_type": "code",
      "source": [
        "#Write a function merge_and_sort(lst1, lst2) that takes two lists lst1 and lst2, merges them into a single list, and returns the sorted result."
      ],
      "metadata": {
        "id": "gCxTJ6D_B5LA"
      },
      "execution_count": null,
      "outputs": []
    },
    {
      "cell_type": "code",
      "source": [
        "def merge_sort(l1,l2):\n",
        "    l=l1+l2\n",
        "    l.sort()\n",
        "    return l\n",
        "l1=list(map(int,input().split()))\n",
        "l2=list(map(int,input().split()))\n",
        "res=merge_sort(l1,l2)\n",
        "print(res)"
      ],
      "metadata": {
        "colab": {
          "base_uri": "https://localhost:8080/"
        },
        "id": "mFwznF4FxLiM",
        "outputId": "77e5524d-8f3e-4166-ac4d-75634dce3138"
      },
      "execution_count": null,
      "outputs": [
        {
          "output_type": "stream",
          "name": "stdout",
          "text": [
            "1 2 3 10 9\n",
            "4 5 6 7 8\n",
            "[1, 2, 3, 4, 5, 6, 7, 8, 9, 10]\n"
          ]
        }
      ]
    },
    {
      "cell_type": "code",
      "source": [
        "#Write a function is_anagram(str1, str2) that checks if two strings are anagrams of each other."
      ],
      "metadata": {
        "id": "qw8foWLcB5N4"
      },
      "execution_count": null,
      "outputs": []
    },
    {
      "cell_type": "code",
      "source": [
        "def anagram(s1,s2):\n",
        "    s1=sorted(s1)\n",
        "    s2=sorted(s2)\n",
        "    if s1==s2:\n",
        "        return True\n",
        "    else:\n",
        "        return False\n",
        "s1=input()\n",
        "s2=input()\n",
        "res=anagram(s1,s2)\n",
        "print(res)"
      ],
      "metadata": {
        "colab": {
          "base_uri": "https://localhost:8080/"
        },
        "id": "fwjZbd9-y8qr",
        "outputId": "c3ad6cec-f0cb-42fa-8674-f1976938fc35"
      },
      "execution_count": null,
      "outputs": [
        {
          "output_type": "stream",
          "name": "stdout",
          "text": [
            "ajaykarre\n",
            "karreajay\n",
            "True\n"
          ]
        }
      ]
    },
    {
      "cell_type": "code",
      "source": [
        "#Write a function that merges two dictionaries into one."
      ],
      "metadata": {
        "id": "frS6msfiB5RZ"
      },
      "execution_count": null,
      "outputs": []
    },
    {
      "cell_type": "code",
      "source": [
        "def merge(d1,d2):\n",
        "    m=d1.copy()\n",
        "    m.update(d2)\n",
        "    return m\n",
        "d1={'a':1,'b':2,'c':3,'d':4}\n",
        "d2={'e':5,'f':6,'g':7,'h':8}\n",
        "res=merge(d1,d2)\n",
        "print(res)"
      ],
      "metadata": {
        "colab": {
          "base_uri": "https://localhost:8080/"
        },
        "id": "NSvOG18xzUXD",
        "outputId": "932da82c-562a-4da3-8b21-fe216abfdeb8"
      },
      "execution_count": null,
      "outputs": [
        {
          "output_type": "stream",
          "name": "stdout",
          "text": [
            "{'a': 1, 'b': 2, 'c': 3, 'd': 4, 'e': 5, 'f': 6, 'g': 7, 'h': 8}\n"
          ]
        }
      ]
    },
    {
      "cell_type": "code",
      "source": [
        "#Write a function that merges two dictionaries into one."
      ],
      "metadata": {
        "id": "uQkW6mlSCpkA"
      },
      "execution_count": null,
      "outputs": []
    },
    {
      "cell_type": "code",
      "source": [
        "def merge(d1,d2):\n",
        "    m=d1.copy()\n",
        "    m.update(d2)\n",
        "    return m\n",
        "d1={'a':1,'b':2,'c':3,'d':4}\n",
        "d2={'e':5,'f':6,'g':7,'h':8}\n",
        "res=merge(d1,d2)\n",
        "print(res)"
      ],
      "metadata": {
        "colab": {
          "base_uri": "https://localhost:8080/"
        },
        "id": "FhTV9wfO0ach",
        "outputId": "26d36f86-87a4-46c9-c3e6-d6626354403d"
      },
      "execution_count": null,
      "outputs": [
        {
          "output_type": "stream",
          "name": "stdout",
          "text": [
            "{'a': 1, 'b': 2, 'c': 3, 'd': 4, 'e': 5, 'f': 6, 'g': 7, 'h': 8}\n"
          ]
        }
      ]
    },
    {
      "cell_type": "code",
      "source": [
        "#Write a function that filters out the even numbers from a list and returns the odd numbers."
      ],
      "metadata": {
        "id": "Cf_Ul9FgCpxu"
      },
      "execution_count": null,
      "outputs": []
    },
    {
      "cell_type": "code",
      "source": [
        "def list_filter(l):\n",
        "    k=list(filter(lambda x:x%2!=0,l))\n",
        "    return k\n",
        "l=list(map(int,input().split()))\n",
        "res=list_filter(l)\n",
        "print(res)"
      ],
      "metadata": {
        "colab": {
          "base_uri": "https://localhost:8080/"
        },
        "id": "I2I7q_in1p-Q",
        "outputId": "13b08ffd-5600-4cb6-8b36-566c2651f15a"
      },
      "execution_count": null,
      "outputs": [
        {
          "output_type": "stream",
          "name": "stdout",
          "text": [
            "10 9 8 7 6 1 2 3 4 5\n",
            "[9, 7, 1, 3, 5]\n"
          ]
        }
      ]
    },
    {
      "cell_type": "code",
      "source": [
        "#Write a function that returns both the minimum and maximum values from a list."
      ],
      "metadata": {
        "id": "EsK_Rb0eCp0x"
      },
      "execution_count": null,
      "outputs": []
    },
    {
      "cell_type": "code",
      "source": [
        "def min_and_max(l):\n",
        "    k=min(l)\n",
        "    h=max(l)\n",
        "    return k,h\n",
        "l=list(map(int,input().split()))\n",
        "res=min_and_max(l)\n",
        "print(res)"
      ],
      "metadata": {
        "colab": {
          "base_uri": "https://localhost:8080/"
        },
        "id": "00p1fPi92oNn",
        "outputId": "ef66aecc-8bba-4c24-bd8d-e873d96dbc02"
      },
      "execution_count": null,
      "outputs": [
        {
          "output_type": "stream",
          "name": "stdout",
          "text": [
            "10 6 5 4 3 7\n",
            "(3, 10)\n"
          ]
        }
      ]
    },
    {
      "cell_type": "code",
      "source": [
        "#Write a function that finds common elements in two lists."
      ],
      "metadata": {
        "id": "lhYa0XUeCp3c"
      },
      "execution_count": null,
      "outputs": []
    },
    {
      "cell_type": "code",
      "source": [
        "def find_com(l,l2):\n",
        "    m=[]\n",
        "    for i in l:\n",
        "        if i in l2:\n",
        "            m.append(i)\n",
        "    return m\n",
        "l=list(map(int,input().split()))\n",
        "l2=list(map(int,input().split()))\n",
        "res=find_com(l,l2)\n",
        "print(res)"
      ],
      "metadata": {
        "colab": {
          "base_uri": "https://localhost:8080/"
        },
        "id": "Jb_0DjvBQ3qG",
        "outputId": "87cd9664-57c0-4dab-871d-a77cd1d0336a"
      },
      "execution_count": 1,
      "outputs": [
        {
          "output_type": "stream",
          "name": "stdout",
          "text": [
            "9 8 7 6 5 4\n",
            "1 2 3 4 5 6 \n",
            "[6, 5, 4]\n"
          ]
        }
      ]
    },
    {
      "cell_type": "code",
      "source": [
        "#Write a function that counts the number of each character in a string."
      ],
      "metadata": {
        "id": "lKGzm1jyC4nV"
      },
      "execution_count": null,
      "outputs": []
    },
    {
      "cell_type": "code",
      "source": [
        "def coun(s):\n",
        "    d={}\n",
        "    for i in s:\n",
        "        if i in d:\n",
        "            d[i]=d[i]+1\n",
        "        else:\n",
        "            d[i]=1\n",
        "    return d\n",
        "s=input()\n",
        "res=coun(s)\n",
        "print(res)"
      ],
      "metadata": {
        "colab": {
          "base_uri": "https://localhost:8080/"
        },
        "id": "Tk3Q8c7NSdBP",
        "outputId": "8b922ca9-6ef6-4d9d-eed3-448d6a5edfe3"
      },
      "execution_count": 2,
      "outputs": [
        {
          "output_type": "stream",
          "name": "stdout",
          "text": [
            "ajaykarre\n",
            "{'a': 3, 'j': 1, 'y': 1, 'k': 1, 'r': 2, 'e': 1}\n"
          ]
        }
      ]
    },
    {
      "cell_type": "code",
      "source": [
        "#Write a function that removes all vowels from a string."
      ],
      "metadata": {
        "id": "O4dG6iQiC5B_"
      },
      "execution_count": null,
      "outputs": []
    },
    {
      "cell_type": "code",
      "source": [
        "def rem_vow(s):\n",
        "    for i in s:\n",
        "        if i=='a' or i=='e' or i=='i' or i=='o' or i=='u' or i=='A' or i=='E' or i=='I' or i=='O' or i=='u':\n",
        "            s=s.replace(i,\"\")\n",
        "    return s\n",
        "s=input()\n",
        "res=rem_vow(s)\n",
        "print(res)"
      ],
      "metadata": {
        "colab": {
          "base_uri": "https://localhost:8080/"
        },
        "id": "E1paqN1eT6f3",
        "outputId": "3e3ab7b9-fb04-4dff-895c-5fb5b10ca4c2"
      },
      "execution_count": 3,
      "outputs": [
        {
          "output_type": "stream",
          "name": "stdout",
          "text": [
            "ramukareiou\n",
            "rmkr\n"
          ]
        }
      ]
    }
  ]
}