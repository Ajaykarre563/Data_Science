{
  "cells": [
    {
      "cell_type": "markdown",
      "id": "cd437d45-bab8-4368-8313-852ee8e152d3",
      "metadata": {
        "id": "cd437d45-bab8-4368-8313-852ee8e152d3"
      },
      "source": [
        "### 1. Create two numbers. One float another integer. Add two numbers and print the result in integer format."
      ]
    },
    {
      "cell_type": "code",
      "source": [],
      "metadata": {
        "id": "01js4P3x3_p5"
      },
      "id": "01js4P3x3_p5",
      "execution_count": null,
      "outputs": []
    },
    {
      "cell_type": "markdown",
      "id": "fb46ce75-3cff-4a37-a1a1-f734c7909f4b",
      "metadata": {
        "id": "fb46ce75-3cff-4a37-a1a1-f734c7909f4b"
      },
      "source": [
        "a=int(input())\n",
        "b=float(input())\n",
        "c=a+b\n",
        "print(int(c))"
      ]
    },
    {
      "cell_type": "code",
      "source": [
        "a=int(input())\n",
        "b=float(input())\n",
        "c=a+b\n",
        "print(int(c))"
      ],
      "metadata": {
        "colab": {
          "base_uri": "https://localhost:8080/"
        },
        "id": "t4NffdHR39PR",
        "outputId": "f981a65f-15f9-4b83-f69a-053a54681071"
      },
      "id": "t4NffdHR39PR",
      "execution_count": 3,
      "outputs": [
        {
          "output_type": "stream",
          "name": "stdout",
          "text": [
            "2\n",
            "2.5\n",
            "4\n"
          ]
        }
      ]
    },
    {
      "cell_type": "markdown",
      "id": "7b4435d4-5827-4098-a1f7-51c711917950",
      "metadata": {
        "id": "7b4435d4-5827-4098-a1f7-51c711917950"
      },
      "source": [
        "### 2. “i live in india since my childhood”. Count number of 'i' in this text"
      ]
    },
    {
      "cell_type": "code",
      "execution_count": 1,
      "id": "2ef7a51a-a70a-4275-ab1e-7e33a27f1261",
      "metadata": {
        "colab": {
          "base_uri": "https://localhost:8080/"
        },
        "id": "2ef7a51a-a70a-4275-ab1e-7e33a27f1261",
        "outputId": "5ba9f584-2da5-47b0-b218-3256904f63c6"
      },
      "outputs": [
        {
          "output_type": "stream",
          "name": "stdout",
          "text": [
            "7\n"
          ]
        }
      ],
      "source": [
        "s=\"i live in india since my childhood\"\n",
        "c=0\n",
        "for k in s:\n",
        "    if k=='i':\n",
        "        c=c+1\n",
        "print(c)"
      ]
    },
    {
      "cell_type": "markdown",
      "id": "c2691a17-c0ab-4d65-8b85-221501ccc391",
      "metadata": {
        "id": "c2691a17-c0ab-4d65-8b85-221501ccc391"
      },
      "source": [
        "### 3. How do you check if a variable is of a certain data type in Python?"
      ]
    },
    {
      "cell_type": "code",
      "execution_count": 4,
      "id": "736473ea-68c0-48ec-bc34-60a29a7e0166",
      "metadata": {
        "colab": {
          "base_uri": "https://localhost:8080/"
        },
        "id": "736473ea-68c0-48ec-bc34-60a29a7e0166",
        "outputId": "7f118b48-ee8a-497e-de04-0006eead8570"
      },
      "outputs": [
        {
          "output_type": "stream",
          "name": "stdout",
          "text": [
            "<class 'str'>\n"
          ]
        }
      ],
      "source": [
        "s=\"i live in india since my childhood\"\n",
        "print(type(s))"
      ]
    },
    {
      "cell_type": "markdown",
      "id": "8d30c694-a4b0-42cb-aa54-0bf2062e9495",
      "metadata": {
        "id": "8d30c694-a4b0-42cb-aa54-0bf2062e9495"
      },
      "source": [
        "### 4. Write a python code to find last 4 characters of a string : 'Machine Learning'"
      ]
    },
    {
      "cell_type": "code",
      "execution_count": 5,
      "id": "7106b426-3c6f-46ea-adc7-a39672608769",
      "metadata": {
        "colab": {
          "base_uri": "https://localhost:8080/"
        },
        "id": "7106b426-3c6f-46ea-adc7-a39672608769",
        "outputId": "3052d214-fe42-4d82-c222-68220cfb6f3b"
      },
      "outputs": [
        {
          "output_type": "stream",
          "name": "stdout",
          "text": [
            "ning\n"
          ]
        }
      ],
      "source": [
        "s=\"Machine Learning\"\n",
        "print(s[-4::])"
      ]
    },
    {
      "cell_type": "markdown",
      "id": "3251b2f2-d2e6-4301-ab8a-4e67f6707831",
      "metadata": {
        "id": "3251b2f2-d2e6-4301-ab8a-4e67f6707831"
      },
      "source": [
        "### 5. Write a python code to remove blank space from string : 'P y t h o n'"
      ]
    },
    {
      "cell_type": "code",
      "execution_count": 6,
      "id": "ea87fd2c-7dd9-4cd5-9b1d-6594f7c2a339",
      "metadata": {
        "colab": {
          "base_uri": "https://localhost:8080/"
        },
        "id": "ea87fd2c-7dd9-4cd5-9b1d-6594f7c2a339",
        "outputId": "32d74248-4b5e-4756-c8f6-187b307c31a0"
      },
      "outputs": [
        {
          "output_type": "stream",
          "name": "stdout",
          "text": [
            "Python\n"
          ]
        }
      ],
      "source": [
        "s= 'P y t h o n'\n",
        "k=s.split()\n",
        "print(\"\".join(k))"
      ]
    },
    {
      "cell_type": "markdown",
      "id": "73fb26ba-b22b-4fb2-bc42-32b5f6fde596",
      "metadata": {
        "id": "73fb26ba-b22b-4fb2-bc42-32b5f6fde596"
      },
      "source": [
        "### 6.Write a python code to remove trailing space from string: ‘Machine Learning. ’"
      ]
    },
    {
      "cell_type": "code",
      "execution_count": 7,
      "id": "e7105750-76ae-40b0-90f5-3318442f339e",
      "metadata": {
        "colab": {
          "base_uri": "https://localhost:8080/"
        },
        "id": "e7105750-76ae-40b0-90f5-3318442f339e",
        "outputId": "7520cf91-035e-4af7-8943-6b37af5c70b2"
      },
      "outputs": [
        {
          "output_type": "stream",
          "name": "stdout",
          "text": [
            "Machine Learning.\n"
          ]
        }
      ],
      "source": [
        "s='Machine Learning. '\n",
        "k=s.rstrip()\n",
        "print(k)"
      ]
    },
    {
      "cell_type": "markdown",
      "id": "e0bb5650-4421-4359-a5b1-001d530814fe",
      "metadata": {
        "id": "e0bb5650-4421-4359-a5b1-001d530814fe"
      },
      "source": [
        "### 7. Write a python code to check given character is digit or not : 265"
      ]
    },
    {
      "cell_type": "code",
      "execution_count": 8,
      "id": "f2e34904-0068-45e0-a337-7688a215e13c",
      "metadata": {
        "colab": {
          "base_uri": "https://localhost:8080/"
        },
        "id": "f2e34904-0068-45e0-a337-7688a215e13c",
        "outputId": "6a2b500a-5381-42c6-b0ac-e2693d5e07cd"
      },
      "outputs": [
        {
          "output_type": "stream",
          "name": "stdout",
          "text": [
            "Yes\n"
          ]
        }
      ],
      "source": [
        "s='265'\n",
        "if s.isdigit():\n",
        "    print(\"Yes\")\n",
        "else:\n",
        "    print(\"No\")"
      ]
    },
    {
      "cell_type": "markdown",
      "id": "dde3c8f9-f321-4d61-ae82-c7b732892234",
      "metadata": {
        "id": "dde3c8f9-f321-4d61-ae82-c7b732892234"
      },
      "source": [
        "### 8. Write a python code to Convert a string to lowercase : ‘MACHINE LEARNING’"
      ]
    },
    {
      "cell_type": "code",
      "execution_count": 9,
      "id": "98ccd7f6-2972-4cd1-87f7-e84c89dc6bac",
      "metadata": {
        "colab": {
          "base_uri": "https://localhost:8080/"
        },
        "id": "98ccd7f6-2972-4cd1-87f7-e84c89dc6bac",
        "outputId": "a931fa8e-2194-4bf1-977e-8f6e17054a38"
      },
      "outputs": [
        {
          "output_type": "stream",
          "name": "stdout",
          "text": [
            "machine learning\n"
          ]
        }
      ],
      "source": [
        "s='MACHINE LEARNING'\n",
        "k=s.lower()\n",
        "print(k)"
      ]
    },
    {
      "cell_type": "markdown",
      "id": "ef6fc974-c6a7-43a5-adbe-9138ce399a08",
      "metadata": {
        "id": "ef6fc974-c6a7-43a5-adbe-9138ce399a08"
      },
      "source": [
        "### 9.Write a python code to count the number of occurrences of a character ‘e’ in a string. ‘Machine Learning and Deep Learning’"
      ]
    },
    {
      "cell_type": "code",
      "execution_count": 10,
      "id": "59d2831f-6353-42b1-9dcf-56d126bc3a3b",
      "metadata": {
        "colab": {
          "base_uri": "https://localhost:8080/"
        },
        "id": "59d2831f-6353-42b1-9dcf-56d126bc3a3b",
        "outputId": "2118330e-04d2-418c-ef87-a6551bfd4455"
      },
      "outputs": [
        {
          "output_type": "stream",
          "name": "stdout",
          "text": [
            "5\n"
          ]
        }
      ],
      "source": [
        "s= 'Machine Learning and Deep Learning'\n",
        "c=0\n",
        "for i in s:\n",
        "    if i=='e':\n",
        "        c=c+1\n",
        "print(c)"
      ]
    },
    {
      "cell_type": "markdown",
      "id": "1a1a36fb-8806-4b45-b259-6766dfac2867",
      "metadata": {
        "id": "1a1a36fb-8806-4b45-b259-6766dfac2867"
      },
      "source": [
        "### 10. Write a python code to check if a string contains only alphabetic characters. String = ‘HelloPython’"
      ]
    },
    {
      "cell_type": "code",
      "execution_count": 11,
      "id": "3be67b4d-f8b6-4515-8eb2-3e6f2536b83a",
      "metadata": {
        "colab": {
          "base_uri": "https://localhost:8080/"
        },
        "id": "3be67b4d-f8b6-4515-8eb2-3e6f2536b83a",
        "outputId": "786188d2-58ff-4685-d4e2-e622c6dd4ba0"
      },
      "outputs": [
        {
          "output_type": "stream",
          "name": "stdout",
          "text": [
            "YES\n"
          ]
        }
      ],
      "source": [
        "s='HelloPython'\n",
        "if s.isalpha():\n",
        "    print(\"YES\")\n",
        "else:\n",
        "    print(\"NO\")"
      ]
    },
    {
      "cell_type": "markdown",
      "id": "00f80e35-4d6d-40a3-89d9-4ac941888a70",
      "metadata": {
        "id": "00f80e35-4d6d-40a3-89d9-4ac941888a70"
      },
      "source": [
        "### 11. calculate the absolute value of a number -564"
      ]
    },
    {
      "cell_type": "code",
      "execution_count": 12,
      "id": "245d21b4-2d15-434b-acec-41d71056dc2d",
      "metadata": {
        "colab": {
          "base_uri": "https://localhost:8080/"
        },
        "id": "245d21b4-2d15-434b-acec-41d71056dc2d",
        "outputId": "1344a60e-bd3f-4f0c-d923-b31c09fecccb"
      },
      "outputs": [
        {
          "output_type": "stream",
          "name": "stdout",
          "text": [
            "564\n"
          ]
        }
      ],
      "source": [
        "n=-564\n",
        "print(abs(n))"
      ]
    },
    {
      "cell_type": "markdown",
      "id": "5d320772-7d8a-4af7-8936-b34b346a99c2",
      "metadata": {
        "id": "5d320772-7d8a-4af7-8936-b34b346a99c2"
      },
      "source": [
        "### 12. Create a list with numbers 1 to 10 and sort it in ascending and descending order."
      ]
    },
    {
      "cell_type": "code",
      "execution_count": 13,
      "id": "f22e2303-11be-4eda-b65a-89f3420dec96",
      "metadata": {
        "colab": {
          "base_uri": "https://localhost:8080/"
        },
        "id": "f22e2303-11be-4eda-b65a-89f3420dec96",
        "outputId": "b8b6941e-a56c-47df-ad18-f50cebd74a44"
      },
      "outputs": [
        {
          "output_type": "stream",
          "name": "stdout",
          "text": [
            "[1, 2, 3, 4, 5, 6, 7, 8, 9, 10]\n",
            "[10, 9, 8, 7, 6, 5, 4, 3, 2, 1]\n"
          ]
        }
      ],
      "source": [
        "l=[4,5,6,1,2,3,7,8,9,10]\n",
        "l.sort()\n",
        "print(l)\n",
        "l.sort(reverse=True)\n",
        "print(l)"
      ]
    },
    {
      "cell_type": "markdown",
      "id": "fd693ab1-a08c-4a85-bc9a-76fbfad2b456",
      "metadata": {
        "id": "fd693ab1-a08c-4a85-bc9a-76fbfad2b456"
      },
      "source": [
        "### 13. data = [1,2,3,4,6,7,7,8,9,9]. Drop duplicate values from this list and print the remaining numbers"
      ]
    },
    {
      "cell_type": "code",
      "execution_count": 14,
      "id": "2bdb3316-64d6-4e63-a6f8-896c4e7b3eb8",
      "metadata": {
        "colab": {
          "base_uri": "https://localhost:8080/"
        },
        "id": "2bdb3316-64d6-4e63-a6f8-896c4e7b3eb8",
        "outputId": "ec700221-8600-441c-ae0b-8269d8c57fca"
      },
      "outputs": [
        {
          "output_type": "stream",
          "name": "stdout",
          "text": [
            "[1, 2, 3, 4, 6, 7, 8, 9]\n"
          ]
        }
      ],
      "source": [
        "l= [1,2,3,4,6,7,7,8,9,9]\n",
        "m=list(set(l))\n",
        "print(m)"
      ]
    },
    {
      "cell_type": "markdown",
      "id": "627ef3d1-4c58-47b3-a818-2e968ff16cc9",
      "metadata": {
        "id": "627ef3d1-4c58-47b3-a818-2e968ff16cc9"
      },
      "source": [
        "### 14.Write a python code to find the second largest number in a list: [21,44,767,98,37,106,345,87]"
      ]
    },
    {
      "cell_type": "code",
      "execution_count": 15,
      "id": "8c6ed2d5-6119-4079-84ec-56eb53c4f399",
      "metadata": {
        "colab": {
          "base_uri": "https://localhost:8080/"
        },
        "id": "8c6ed2d5-6119-4079-84ec-56eb53c4f399",
        "outputId": "78b857ea-a2af-4066-ecfb-2cdaeb5105bd"
      },
      "outputs": [
        {
          "output_type": "stream",
          "name": "stdout",
          "text": [
            "345\n"
          ]
        }
      ],
      "source": [
        "l= [21,44,767,98,37,106,345,87]\n",
        "l.sort()\n",
        "k=len(l)\n",
        "for i in range(k):\n",
        "    print(l[-2])\n",
        "    break"
      ]
    },
    {
      "cell_type": "markdown",
      "id": "8f57f4d6-e8df-4e86-9c7d-0a62a9c7a431",
      "metadata": {
        "id": "8f57f4d6-e8df-4e86-9c7d-0a62a9c7a431"
      },
      "source": [
        "### 15.Write a Python program to find the maximum and minimum values in a list. list1 = [ 21,44,767,98,37]"
      ]
    },
    {
      "cell_type": "code",
      "execution_count": 16,
      "id": "820bceb3-1312-4dbb-b708-85c7fd30eb77",
      "metadata": {
        "colab": {
          "base_uri": "https://localhost:8080/"
        },
        "id": "820bceb3-1312-4dbb-b708-85c7fd30eb77",
        "outputId": "18b05c4d-e881-4dcd-b3d9-c91997799ab6"
      },
      "outputs": [
        {
          "output_type": "stream",
          "name": "stdout",
          "text": [
            "767\n",
            "21\n"
          ]
        }
      ],
      "source": [
        "l=[ 21,44,767,98,37]\n",
        "l.sort()\n",
        "print(l[-1])\n",
        "print(l[0])"
      ]
    },
    {
      "cell_type": "markdown",
      "id": "de35c44b-1db3-48b2-bb84-87cc21ffd271",
      "metadata": {
        "id": "de35c44b-1db3-48b2-bb84-87cc21ffd271"
      },
      "source": [
        "### 16. Create two separate dictionaries and Merge them."
      ]
    },
    {
      "cell_type": "code",
      "execution_count": 17,
      "id": "7e5c5a51-e0dd-4243-a9ac-77058693c94e",
      "metadata": {
        "colab": {
          "base_uri": "https://localhost:8080/"
        },
        "id": "7e5c5a51-e0dd-4243-a9ac-77058693c94e",
        "outputId": "3372ef7c-8fdc-465e-b8f9-9832b8ec0caa"
      },
      "outputs": [
        {
          "output_type": "stream",
          "name": "stdout",
          "text": [
            "{'a': 1, 'b': 2, 'c': 3, 'e': 5, 'f': 6, 'g': 7}\n"
          ]
        }
      ],
      "source": [
        "d={'a':1,'b':2,'c':3}\n",
        "d1={'e':5,'f':6,'g':7}\n",
        "merge=d.copy()\n",
        "merge.update(d1)\n",
        "print(merge)"
      ]
    },
    {
      "cell_type": "markdown",
      "id": "08396c90-030a-4244-9d30-3c2756d935b8",
      "metadata": {
        "id": "08396c90-030a-4244-9d30-3c2756d935b8"
      },
      "source": [
        "### 17. Write a Python program to create a dictionary where keys are integers from 1 to 5 and corresponding values are their squares."
      ]
    },
    {
      "cell_type": "code",
      "execution_count": 18,
      "id": "6d78a45a-a152-4e24-a24b-eaa0f0a92027",
      "metadata": {
        "colab": {
          "base_uri": "https://localhost:8080/"
        },
        "id": "6d78a45a-a152-4e24-a24b-eaa0f0a92027",
        "outputId": "9953e797-6354-4283-fbe4-51735d04ec7c"
      },
      "outputs": [
        {
          "output_type": "stream",
          "name": "stdout",
          "text": [
            "{1: 1, 2: 4, 3: 9, 4: 16, 5: 25}\n"
          ]
        }
      ],
      "source": [
        "squ = {x: x**2 for x in range(1, 6)}\n",
        "print(squ)"
      ]
    },
    {
      "cell_type": "markdown",
      "id": "deb5645b-9890-4e1c-b44c-5d7fcf1fb602",
      "metadata": {
        "id": "deb5645b-9890-4e1c-b44c-5d7fcf1fb602"
      },
      "source": [
        "### 18. Create a Python dictionary with keys as cars and values as their respective prices.\n",
        "car_models = [\"Toyota Camry\", \"Honda Civic\", \"Ford Mustang\", \"Chevrolet Silverado\", \"Nissan Altima\"]\n",
        "car_prices = [2500000, 2200000, 4000000, 3500000, 2300000]"
      ]
    },
    {
      "cell_type": "code",
      "execution_count": 19,
      "id": "6232a129-f990-4dab-905f-225ff838eb9e",
      "metadata": {
        "colab": {
          "base_uri": "https://localhost:8080/"
        },
        "id": "6232a129-f990-4dab-905f-225ff838eb9e",
        "outputId": "7b2790bd-8eca-4267-b3e8-e9a00979139f"
      },
      "outputs": [
        {
          "output_type": "stream",
          "name": "stdout",
          "text": [
            "{'Toyota Camry': 2500000, 'Honda Civic': 2200000, 'Ford Mustang': 4000000, 'Chevrolet Silverado': 3500000, 'Nissan Altima': 2300000}\n"
          ]
        }
      ],
      "source": [
        "car_models = [\"Toyota Camry\", \"Honda Civic\", \"Ford Mustang\", \"Chevrolet Silverado\", \"Nissan Altima\"]\n",
        "car_prices = [2500000, 2200000, 4000000, 3500000, 2300000]\n",
        "d={}\n",
        "for m,p in zip(car_models,car_prices):\n",
        "    d[m]=p\n",
        "print(d)\n"
      ]
    },
    {
      "cell_type": "markdown",
      "id": "f126472c-5f34-411e-a6d3-a6cbe4bcde9a",
      "metadata": {
        "id": "f126472c-5f34-411e-a6d3-a6cbe4bcde9a"
      },
      "source": [
        "### 19.Create a dictionary with 5 key pair values. Key would be a grocery item name and value will be its price (any value in the range of 10 to 1000). (take any grocery items) Write a for loop to iterate over a dictionary and print key-value pairs. While printing if the value is greater Rs. 500 then print a line – “this is a costly item.”"
      ]
    },
    {
      "cell_type": "code",
      "execution_count": 20,
      "id": "aa19861d-23a0-4536-ba2d-9307eb16e564",
      "metadata": {
        "colab": {
          "base_uri": "https://localhost:8080/"
        },
        "id": "aa19861d-23a0-4536-ba2d-9307eb16e564",
        "outputId": "3e9a67a0-05b7-45b8-dd94-12f9d29fcfce"
      },
      "outputs": [
        {
          "output_type": "stream",
          "name": "stdout",
          "text": [
            "Milk: Rs. 50\n",
            "Bread: Rs. 40\n",
            "Cheese: Rs. 600\n",
            "This is a costly item.\n",
            "Eggs: Rs. 120\n",
            "Chicken: Rs. 800\n",
            "This is a costly item.\n"
          ]
        }
      ],
      "source": [
        "grocery_items = {\n",
        "    \"Milk\": 50,\n",
        "    \"Bread\": 40,\n",
        "    \"Cheese\": 600,\n",
        "    \"Eggs\": 120,\n",
        "    \"Chicken\": 800\n",
        "}\n",
        "for item, price in grocery_items.items():\n",
        "    print(\"%s: Rs. %d\" % (item, price))\n",
        "    if price > 500:\n",
        "        print(\"This is a costly item.\")\n"
      ]
    },
    {
      "cell_type": "markdown",
      "id": "67585afb-3f8a-40a5-a823-ef94376c96d2",
      "metadata": {
        "id": "67585afb-3f8a-40a5-a823-ef94376c96d2"
      },
      "source": [
        "### 20. In the dictionary created in above task delete the key value pairs where price is less than average price of all the items in the dictionary."
      ]
    },
    {
      "cell_type": "code",
      "source": [
        "grocery_items = {\n",
        "    \"Milk\": 50,\n",
        "    \"Bread\": 40,\n",
        "    \"Cheese\": 600,\n",
        "    \"Eggs\": 120,\n",
        "    \"Chicken\": 800\n",
        "}\n",
        "\n",
        "\n",
        "total_price = sum(grocery_items.values())\n",
        "num_items = len(grocery_items)\n",
        "average_price = total_price / num_items\n",
        "\n",
        "\n",
        "keys_to_delete = [item for item, price in grocery_items.items() if price < average_price]\n",
        "\n",
        "\n",
        "for key in keys_to_delete:\n",
        "    del grocery_items[key]\n",
        "\n",
        "\n",
        "print(\"Updated dictionary:\", grocery_items)\n"
      ],
      "metadata": {
        "colab": {
          "base_uri": "https://localhost:8080/"
        },
        "id": "117slznsGBr-",
        "outputId": "b7ec77e0-e839-4f60-8086-2738da0b0bad"
      },
      "id": "117slznsGBr-",
      "execution_count": 21,
      "outputs": [
        {
          "output_type": "stream",
          "name": "stdout",
          "text": [
            "Updated dictionary: {'Cheese': 600, 'Chicken': 800}\n"
          ]
        }
      ]
    },
    {
      "cell_type": "code",
      "execution_count": null,
      "id": "0be5f1ea-0cfe-423e-9d38-252566223531",
      "metadata": {
        "id": "0be5f1ea-0cfe-423e-9d38-252566223531"
      },
      "outputs": [],
      "source": []
    },
    {
      "cell_type": "code",
      "execution_count": null,
      "id": "bfdc6dd5-9997-49c7-8bce-47bfba5200de",
      "metadata": {
        "id": "bfdc6dd5-9997-49c7-8bce-47bfba5200de"
      },
      "outputs": [],
      "source": []
    }
  ],
  "metadata": {
    "kernelspec": {
      "display_name": "Python 3 (ipykernel)",
      "language": "python",
      "name": "python3"
    },
    "language_info": {
      "codemirror_mode": {
        "name": "ipython",
        "version": 3
      },
      "file_extension": ".py",
      "mimetype": "text/x-python",
      "name": "python",
      "nbconvert_exporter": "python",
      "pygments_lexer": "ipython3",
      "version": "3.11.7"
    },
    "colab": {
      "provenance": []
    }
  },
  "nbformat": 4,
  "nbformat_minor": 5
}