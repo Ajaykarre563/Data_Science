{
  "nbformat": 4,
  "nbformat_minor": 0,
  "metadata": {
    "colab": {
      "provenance": []
    },
    "kernelspec": {
      "name": "python3",
      "display_name": "Python 3"
    },
    "language_info": {
      "name": "python"
    }
  },
  "cells": [
    {
      "cell_type": "code",
      "execution_count": null,
      "metadata": {
        "id": "IcO_mEOeAjMT"
      },
      "outputs": [],
      "source": [
        "# Create two numbers: one float and one integer. Write a function to add these two numbers and print the result in integer format."
      ]
    },
    {
      "cell_type": "code",
      "source": [
        "def add(a,b):\n",
        "    return a+b\n",
        "a=float(input())\n",
        "b=int(input())\n",
        "res=add(a,b)\n",
        "print(int(res))"
      ],
      "metadata": {
        "colab": {
          "base_uri": "https://localhost:8080/"
        },
        "id": "flwPgc3GNNzP",
        "outputId": "c4c88fda-5ae0-4ee5-97c6-d2f20575cef6"
      },
      "execution_count": null,
      "outputs": [
        {
          "output_type": "stream",
          "name": "stdout",
          "text": [
            "4.5\n",
            "5\n",
            "9\n"
          ]
        }
      ]
    },
    {
      "cell_type": "code",
      "source": [
        "# Write a Python function to find and return the last 4 characters of a given string. For example, for the string 'Machine Learning', the function should return 'ning'."
      ],
      "metadata": {
        "id": "msrkwjfiCj9x"
      },
      "execution_count": null,
      "outputs": []
    },
    {
      "cell_type": "code",
      "source": [
        "def lastfourchar(s):\n",
        "    return s[-4:]\n",
        "s=\"Machine Learning\"\n",
        "res=lastfourchar(s)\n",
        "print(res)"
      ],
      "metadata": {
        "colab": {
          "base_uri": "https://localhost:8080/"
        },
        "id": "QbjPYF7BOMkj",
        "outputId": "25c24874-42ec-42cb-dec9-1c8a73291832"
      },
      "execution_count": null,
      "outputs": [
        {
          "output_type": "stream",
          "name": "stdout",
          "text": [
            "ning\n"
          ]
        }
      ]
    },
    {
      "cell_type": "code",
      "source": [
        "# Given a list data = [1, 2, 3, 4, 6, 7, 7, 8, 9, 9], write a function to drop duplicate values from this list and print the remaining numbers."
      ],
      "metadata": {
        "id": "E3plbcElCn28"
      },
      "execution_count": null,
      "outputs": []
    },
    {
      "cell_type": "code",
      "source": [
        "def duplicate(l):\n",
        "    k=list(set(l))\n",
        "    return k\n",
        "l=[1, 2, 3, 4, 6, 7, 7, 8, 9, 9]\n",
        "res=duplicate(l)\n",
        "print(res)"
      ],
      "metadata": {
        "colab": {
          "base_uri": "https://localhost:8080/"
        },
        "id": "PqiQxU8mOwTQ",
        "outputId": "5e739b77-3587-4d5e-ff58-d139b15f5f9d"
      },
      "execution_count": null,
      "outputs": [
        {
          "output_type": "stream",
          "name": "stdout",
          "text": [
            "[1, 2, 3, 4, 6, 7, 8, 9]\n"
          ]
        }
      ]
    },
    {
      "cell_type": "code",
      "source": [
        "# Write a Python function is_palindrome(s) that checks if a given string s is a palindrome (reads the same forwards and backwards). Return True if it is, and False otherwise."
      ],
      "metadata": {
        "id": "Mc3k81pgCsyN"
      },
      "execution_count": null,
      "outputs": []
    },
    {
      "cell_type": "code",
      "source": [
        "def is_palindrome(s):\n",
        "    w=s[::-1]\n",
        "    return w==s\n",
        "s=input()\n",
        "res=is_palindrome(s)\n",
        "print(res)"
      ],
      "metadata": {
        "colab": {
          "base_uri": "https://localhost:8080/"
        },
        "id": "K2B-2S1MQFn6",
        "outputId": "fae9b5e5-1229-47e4-eead-50bbf38bd5be"
      },
      "execution_count": null,
      "outputs": [
        {
          "output_type": "stream",
          "name": "stdout",
          "text": [
            "madam\n",
            "True\n"
          ]
        }
      ]
    },
    {
      "cell_type": "code",
      "source": [
        "# Implement a function factorial(n) that calculates and returns the factorial of a given non-negative integer n"
      ],
      "metadata": {
        "id": "Xj3mfyNUCxCO"
      },
      "execution_count": null,
      "outputs": []
    },
    {
      "cell_type": "code",
      "source": [
        "def fact(n):\n",
        "    fact=1\n",
        "    for i in range(1,n+1):\n",
        "        fact=fact*i\n",
        "    return fact\n",
        "\n",
        "n=int(input())\n",
        "res=fact(n)\n",
        "print(res)"
      ],
      "metadata": {
        "colab": {
          "base_uri": "https://localhost:8080/"
        },
        "id": "PN1RiMW93EAw",
        "outputId": "b9f90bb9-9b75-42ec-bad9-05a268bc618b"
      },
      "execution_count": 1,
      "outputs": [
        {
          "output_type": "stream",
          "name": "stdout",
          "text": [
            "5\n",
            "120\n"
          ]
        }
      ]
    },
    {
      "cell_type": "code",
      "source": [
        "# Write a function is_prime(n) that takes an integer n and returns True if n is a prime number, and False otherwise."
      ],
      "metadata": {
        "id": "pfbfOmiGCzri"
      },
      "execution_count": null,
      "outputs": []
    },
    {
      "cell_type": "code",
      "source": [
        "def is_prime(n):\n",
        "    if n<=1:\n",
        "        return False\n",
        "\n",
        "    for i in range(2,int(n**0.5)+1):\n",
        "        if n%i==0:\n",
        "            return False\n",
        "    return True\n",
        "\n",
        "n=int(input())\n",
        "res=is_prime(n)\n",
        "print(res)"
      ],
      "metadata": {
        "colab": {
          "base_uri": "https://localhost:8080/"
        },
        "id": "oOi5LY1M5_rA",
        "outputId": "a04b723c-c4cd-4b5b-b05e-630ff6e414cb"
      },
      "execution_count": 2,
      "outputs": [
        {
          "output_type": "stream",
          "name": "stdout",
          "text": [
            "13\n",
            "True\n"
          ]
        }
      ]
    },
    {
      "cell_type": "code",
      "source": [
        "# Write a function reverse_list(lst) that takes a list lst and returns a new list with the elements in reverse order."
      ],
      "metadata": {
        "id": "I4nuUgBBC4eH"
      },
      "execution_count": null,
      "outputs": []
    },
    {
      "cell_type": "code",
      "source": [
        "def reverse_list(l):\n",
        "    m=l[::-1]\n",
        "    return m\n",
        "\n",
        "l=list(map(int,input().split()))\n",
        "print(reverse_list(l))\n"
      ],
      "metadata": {
        "colab": {
          "base_uri": "https://localhost:8080/"
        },
        "id": "X9a7zXze6zMg",
        "outputId": "bb39234a-7195-433a-cdd4-6ba0446b068b"
      },
      "execution_count": 3,
      "outputs": [
        {
          "output_type": "stream",
          "name": "stdout",
          "text": [
            "9 8 7 1 2 3 4 5 6\n",
            "[6, 5, 4, 3, 2, 1, 7, 8, 9]\n"
          ]
        }
      ]
    },
    {
      "cell_type": "code",
      "source": [
        "# Implement a function reverse_string(s) that takes a string s and returns the string reversed."
      ],
      "metadata": {
        "id": "kTd2NWHJC7Dw"
      },
      "execution_count": null,
      "outputs": []
    },
    {
      "cell_type": "code",
      "source": [
        "def reverse_string(s):\n",
        "    m=\"\"\n",
        "    for i in range(len(s)-1,-1,-1):\n",
        "        m=m+s[i]\n",
        "    return m\n",
        "\n",
        "s=input()\n",
        "print(reverse_string(s))\n"
      ],
      "metadata": {
        "colab": {
          "base_uri": "https://localhost:8080/"
        },
        "id": "bRanTb867ZPE",
        "outputId": "1122cc82-8a89-440d-c862-44d3320bc608"
      },
      "execution_count": 4,
      "outputs": [
        {
          "output_type": "stream",
          "name": "stdout",
          "text": [
            "karreajay\n",
            "yajaerrak\n"
          ]
        }
      ]
    },
    {
      "cell_type": "code",
      "source": [
        "# Write a function sum_of_digits(n) that takes a non-negative integer n and returns the sum of its digits."
      ],
      "metadata": {
        "id": "ELxGEtyFDADd"
      },
      "execution_count": null,
      "outputs": []
    },
    {
      "cell_type": "code",
      "source": [
        "def sum_digit(n):\n",
        "    i=1\n",
        "    s=0\n",
        "    while n>=i:\n",
        "        s=s+i\n",
        "        i=i+1\n",
        "    return s\n",
        "\n",
        "n=int(input())\n",
        "print(sum_digit(n))"
      ],
      "metadata": {
        "colab": {
          "base_uri": "https://localhost:8080/"
        },
        "id": "oIMEWZ-xB0t1",
        "outputId": "1e7c117b-f79e-4253-842d-398cc5f5e46a"
      },
      "execution_count": 5,
      "outputs": [
        {
          "output_type": "stream",
          "name": "stdout",
          "text": [
            "12\n",
            "78\n"
          ]
        }
      ]
    },
    {
      "cell_type": "code",
      "source": [
        "# Write a function char_frequency(s) that takes a string s and returns a dictionary with the frequency of each character in the string."
      ],
      "metadata": {
        "id": "SjviBPweDFkn"
      },
      "execution_count": null,
      "outputs": []
    },
    {
      "cell_type": "code",
      "source": [
        "def freq(s):\n",
        "    d={}\n",
        "    for c in s:\n",
        "        if c in d:\n",
        "            d[c]=d[c]+1\n",
        "        else:\n",
        "            d[c]=1\n",
        "    return d\n",
        "s=input()\n",
        "res=freq(s)\n",
        "print(res)"
      ],
      "metadata": {
        "colab": {
          "base_uri": "https://localhost:8080/"
        },
        "id": "ayuCKix-D2Hl",
        "outputId": "41887d90-80ca-4776-936e-557c21508bda"
      },
      "execution_count": 6,
      "outputs": [
        {
          "output_type": "stream",
          "name": "stdout",
          "text": [
            "ajaykarre\n",
            "{'a': 3, 'j': 1, 'y': 1, 'k': 1, 'r': 2, 'e': 1}\n"
          ]
        }
      ]
    }
  ]
}